{
  "nbformat": 4,
  "nbformat_minor": 0,
  "metadata": {
    "colab": {
      "name": "Student performance analysis.ipynb",
      "provenance": [],
      "collapsed_sections": []
    },
    "kernelspec": {
      "name": "python3",
      "display_name": "Python 3"
    }
  },
  "cells": [
    {
      "cell_type": "markdown",
      "metadata": {
        "id": "ZnvEoI5asjxN"
      },
      "source": [
        "***Importing libraries***"
      ]
    },
    {
      "cell_type": "code",
      "metadata": {
        "id": "yFWIUrhesOj9"
      },
      "source": [
        "# for some basic operations\r\n",
        "import numpy as np\r\n",
        "import pandas as pd\r\n",
        "\r\n",
        "# for visualizations\r\n",
        "import matplotlib.pyplot as plt\r\n",
        "import seaborn as sns\r\n",
        "import plotly.express as px"
      ],
      "execution_count": 1,
      "outputs": []
    },
    {
      "cell_type": "markdown",
      "metadata": {
        "id": "lpKS4GwbsxVP"
      },
      "source": [
        "***Upload dataset***"
      ]
    },
    {
      "cell_type": "code",
      "metadata": {
        "colab": {
          "resources": {
            "http://localhost:8080/nbextensions/google.colab/files.js": {
              "data": "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",
              "ok": true,
              "headers": [
                [
                  "content-type",
                  "application/javascript"
                ]
              ],
              "status": 200,
              "status_text": ""
            }
          },
          "base_uri": "https://localhost:8080/",
          "height": 73
        },
        "id": "-XB_zmE8swIr",
        "outputId": "fb69a303-96e8-43b7-f821-a84a3c26c564"
      },
      "source": [
        "from google.colab import files\r\n",
        "uploaded=files.upload()"
      ],
      "execution_count": 93,
      "outputs": [
        {
          "output_type": "display_data",
          "data": {
            "text/html": [
              "\n",
              "     <input type=\"file\" id=\"files-b5f87951-3b79-42d0-8900-6b061d8e1ab1\" name=\"files[]\" multiple disabled\n",
              "        style=\"border:none\" />\n",
              "     <output id=\"result-b5f87951-3b79-42d0-8900-6b061d8e1ab1\">\n",
              "      Upload widget is only available when the cell has been executed in the\n",
              "      current browser session. Please rerun this cell to enable.\n",
              "      </output>\n",
              "      <script src=\"/nbextensions/google.colab/files.js\"></script> "
            ],
            "text/plain": [
              "<IPython.core.display.HTML object>"
            ]
          },
          "metadata": {
            "tags": []
          }
        },
        {
          "output_type": "stream",
          "text": [
            "Saving StudentsPerformance.csv to StudentsPerformance (1).csv\n"
          ],
          "name": "stdout"
        }
      ]
    },
    {
      "cell_type": "code",
      "metadata": {
        "colab": {
          "base_uri": "https://localhost:8080/"
        },
        "id": "r0VrBLRJs99H",
        "outputId": "3fde3cce-4bde-4511-de0b-70724b9678f7"
      },
      "source": [
        "dataset = pd.read_csv('/content/StudentsPerformance.csv')\r\n",
        "print(dataset)\r\n",
        "ds=pd.DataFrame()"
      ],
      "execution_count": 2,
      "outputs": [
        {
          "output_type": "stream",
          "text": [
            "     gender race/ethnicity  ... reading score writing score\n",
            "0    female        group B  ...            72            74\n",
            "1    female        group C  ...            90            88\n",
            "2    female        group B  ...            95            93\n",
            "3      male        group A  ...            57            44\n",
            "4      male        group C  ...            78            75\n",
            "..      ...            ...  ...           ...           ...\n",
            "995  female        group E  ...            99            95\n",
            "996    male        group C  ...            55            55\n",
            "997  female        group C  ...            71            65\n",
            "998  female        group D  ...            78            77\n",
            "999  female        group D  ...            86            86\n",
            "\n",
            "[1000 rows x 8 columns]\n"
          ],
          "name": "stdout"
        }
      ]
    },
    {
      "cell_type": "code",
      "metadata": {
        "colab": {
          "base_uri": "https://localhost:8080/"
        },
        "id": "E0sB_a4Ztc6c",
        "outputId": "ce42dfa2-57fa-4a6a-9449-f9cd6ff6a0e5"
      },
      "source": [
        "dataset.shape"
      ],
      "execution_count": 3,
      "outputs": [
        {
          "output_type": "execute_result",
          "data": {
            "text/plain": [
              "(1000, 8)"
            ]
          },
          "metadata": {
            "tags": []
          },
          "execution_count": 3
        }
      ]
    },
    {
      "cell_type": "code",
      "metadata": {
        "colab": {
          "base_uri": "https://localhost:8080/",
          "height": 362
        },
        "id": "nqnMSasdtrBn",
        "outputId": "c6a08bb6-d6ce-4147-fab1-3a32d030c32b"
      },
      "source": [
        "dataset.head(10)"
      ],
      "execution_count": 4,
      "outputs": [
        {
          "output_type": "execute_result",
          "data": {
            "text/html": [
              "<div>\n",
              "<style scoped>\n",
              "    .dataframe tbody tr th:only-of-type {\n",
              "        vertical-align: middle;\n",
              "    }\n",
              "\n",
              "    .dataframe tbody tr th {\n",
              "        vertical-align: top;\n",
              "    }\n",
              "\n",
              "    .dataframe thead th {\n",
              "        text-align: right;\n",
              "    }\n",
              "</style>\n",
              "<table border=\"1\" class=\"dataframe\">\n",
              "  <thead>\n",
              "    <tr style=\"text-align: right;\">\n",
              "      <th></th>\n",
              "      <th>gender</th>\n",
              "      <th>race/ethnicity</th>\n",
              "      <th>parental level of education</th>\n",
              "      <th>lunch</th>\n",
              "      <th>test preparation course</th>\n",
              "      <th>math score</th>\n",
              "      <th>reading score</th>\n",
              "      <th>writing score</th>\n",
              "    </tr>\n",
              "  </thead>\n",
              "  <tbody>\n",
              "    <tr>\n",
              "      <th>0</th>\n",
              "      <td>female</td>\n",
              "      <td>group B</td>\n",
              "      <td>bachelor's degree</td>\n",
              "      <td>standard</td>\n",
              "      <td>none</td>\n",
              "      <td>72</td>\n",
              "      <td>72</td>\n",
              "      <td>74</td>\n",
              "    </tr>\n",
              "    <tr>\n",
              "      <th>1</th>\n",
              "      <td>female</td>\n",
              "      <td>group C</td>\n",
              "      <td>some college</td>\n",
              "      <td>standard</td>\n",
              "      <td>completed</td>\n",
              "      <td>69</td>\n",
              "      <td>90</td>\n",
              "      <td>88</td>\n",
              "    </tr>\n",
              "    <tr>\n",
              "      <th>2</th>\n",
              "      <td>female</td>\n",
              "      <td>group B</td>\n",
              "      <td>master's degree</td>\n",
              "      <td>standard</td>\n",
              "      <td>none</td>\n",
              "      <td>90</td>\n",
              "      <td>95</td>\n",
              "      <td>93</td>\n",
              "    </tr>\n",
              "    <tr>\n",
              "      <th>3</th>\n",
              "      <td>male</td>\n",
              "      <td>group A</td>\n",
              "      <td>associate's degree</td>\n",
              "      <td>free/reduced</td>\n",
              "      <td>none</td>\n",
              "      <td>47</td>\n",
              "      <td>57</td>\n",
              "      <td>44</td>\n",
              "    </tr>\n",
              "    <tr>\n",
              "      <th>4</th>\n",
              "      <td>male</td>\n",
              "      <td>group C</td>\n",
              "      <td>some college</td>\n",
              "      <td>standard</td>\n",
              "      <td>none</td>\n",
              "      <td>76</td>\n",
              "      <td>78</td>\n",
              "      <td>75</td>\n",
              "    </tr>\n",
              "    <tr>\n",
              "      <th>5</th>\n",
              "      <td>female</td>\n",
              "      <td>group B</td>\n",
              "      <td>associate's degree</td>\n",
              "      <td>standard</td>\n",
              "      <td>none</td>\n",
              "      <td>71</td>\n",
              "      <td>83</td>\n",
              "      <td>78</td>\n",
              "    </tr>\n",
              "    <tr>\n",
              "      <th>6</th>\n",
              "      <td>female</td>\n",
              "      <td>group B</td>\n",
              "      <td>some college</td>\n",
              "      <td>standard</td>\n",
              "      <td>completed</td>\n",
              "      <td>88</td>\n",
              "      <td>95</td>\n",
              "      <td>92</td>\n",
              "    </tr>\n",
              "    <tr>\n",
              "      <th>7</th>\n",
              "      <td>male</td>\n",
              "      <td>group B</td>\n",
              "      <td>some college</td>\n",
              "      <td>free/reduced</td>\n",
              "      <td>none</td>\n",
              "      <td>40</td>\n",
              "      <td>43</td>\n",
              "      <td>39</td>\n",
              "    </tr>\n",
              "    <tr>\n",
              "      <th>8</th>\n",
              "      <td>male</td>\n",
              "      <td>group D</td>\n",
              "      <td>high school</td>\n",
              "      <td>free/reduced</td>\n",
              "      <td>completed</td>\n",
              "      <td>64</td>\n",
              "      <td>64</td>\n",
              "      <td>67</td>\n",
              "    </tr>\n",
              "    <tr>\n",
              "      <th>9</th>\n",
              "      <td>female</td>\n",
              "      <td>group B</td>\n",
              "      <td>high school</td>\n",
              "      <td>free/reduced</td>\n",
              "      <td>none</td>\n",
              "      <td>38</td>\n",
              "      <td>60</td>\n",
              "      <td>50</td>\n",
              "    </tr>\n",
              "  </tbody>\n",
              "</table>\n",
              "</div>"
            ],
            "text/plain": [
              "   gender race/ethnicity  ... reading score writing score\n",
              "0  female        group B  ...            72            74\n",
              "1  female        group C  ...            90            88\n",
              "2  female        group B  ...            95            93\n",
              "3    male        group A  ...            57            44\n",
              "4    male        group C  ...            78            75\n",
              "5  female        group B  ...            83            78\n",
              "6  female        group B  ...            95            92\n",
              "7    male        group B  ...            43            39\n",
              "8    male        group D  ...            64            67\n",
              "9  female        group B  ...            60            50\n",
              "\n",
              "[10 rows x 8 columns]"
            ]
          },
          "metadata": {
            "tags": []
          },
          "execution_count": 4
        }
      ]
    },
    {
      "cell_type": "markdown",
      "metadata": {
        "id": "cs7OsZSvuEGA"
      },
      "source": [
        "***Applying Descriptive statistics***"
      ]
    },
    {
      "cell_type": "code",
      "metadata": {
        "colab": {
          "base_uri": "https://localhost:8080/",
          "height": 286
        },
        "id": "Homwphazt4uo",
        "outputId": "f4af2f4d-8641-48da-cbd8-c632289f3c56"
      },
      "source": [
        "dataset.describe()"
      ],
      "execution_count": 5,
      "outputs": [
        {
          "output_type": "execute_result",
          "data": {
            "text/html": [
              "<div>\n",
              "<style scoped>\n",
              "    .dataframe tbody tr th:only-of-type {\n",
              "        vertical-align: middle;\n",
              "    }\n",
              "\n",
              "    .dataframe tbody tr th {\n",
              "        vertical-align: top;\n",
              "    }\n",
              "\n",
              "    .dataframe thead th {\n",
              "        text-align: right;\n",
              "    }\n",
              "</style>\n",
              "<table border=\"1\" class=\"dataframe\">\n",
              "  <thead>\n",
              "    <tr style=\"text-align: right;\">\n",
              "      <th></th>\n",
              "      <th>math score</th>\n",
              "      <th>reading score</th>\n",
              "      <th>writing score</th>\n",
              "    </tr>\n",
              "  </thead>\n",
              "  <tbody>\n",
              "    <tr>\n",
              "      <th>count</th>\n",
              "      <td>1000.00000</td>\n",
              "      <td>1000.000000</td>\n",
              "      <td>1000.000000</td>\n",
              "    </tr>\n",
              "    <tr>\n",
              "      <th>mean</th>\n",
              "      <td>66.08900</td>\n",
              "      <td>69.169000</td>\n",
              "      <td>68.054000</td>\n",
              "    </tr>\n",
              "    <tr>\n",
              "      <th>std</th>\n",
              "      <td>15.16308</td>\n",
              "      <td>14.600192</td>\n",
              "      <td>15.195657</td>\n",
              "    </tr>\n",
              "    <tr>\n",
              "      <th>min</th>\n",
              "      <td>0.00000</td>\n",
              "      <td>17.000000</td>\n",
              "      <td>10.000000</td>\n",
              "    </tr>\n",
              "    <tr>\n",
              "      <th>25%</th>\n",
              "      <td>57.00000</td>\n",
              "      <td>59.000000</td>\n",
              "      <td>57.750000</td>\n",
              "    </tr>\n",
              "    <tr>\n",
              "      <th>50%</th>\n",
              "      <td>66.00000</td>\n",
              "      <td>70.000000</td>\n",
              "      <td>69.000000</td>\n",
              "    </tr>\n",
              "    <tr>\n",
              "      <th>75%</th>\n",
              "      <td>77.00000</td>\n",
              "      <td>79.000000</td>\n",
              "      <td>79.000000</td>\n",
              "    </tr>\n",
              "    <tr>\n",
              "      <th>max</th>\n",
              "      <td>100.00000</td>\n",
              "      <td>100.000000</td>\n",
              "      <td>100.000000</td>\n",
              "    </tr>\n",
              "  </tbody>\n",
              "</table>\n",
              "</div>"
            ],
            "text/plain": [
              "       math score  reading score  writing score\n",
              "count  1000.00000    1000.000000    1000.000000\n",
              "mean     66.08900      69.169000      68.054000\n",
              "std      15.16308      14.600192      15.195657\n",
              "min       0.00000      17.000000      10.000000\n",
              "25%      57.00000      59.000000      57.750000\n",
              "50%      66.00000      70.000000      69.000000\n",
              "75%      77.00000      79.000000      79.000000\n",
              "max     100.00000     100.000000     100.000000"
            ]
          },
          "metadata": {
            "tags": []
          },
          "execution_count": 5
        }
      ]
    },
    {
      "cell_type": "code",
      "metadata": {
        "colab": {
          "base_uri": "https://localhost:8080/"
        },
        "id": "Clln8bbxuJR6",
        "outputId": "4bf09d6b-c482-414e-ea18-9a1880e63096"
      },
      "source": [
        "dataset.select_dtypes('object').nunique()"
      ],
      "execution_count": 6,
      "outputs": [
        {
          "output_type": "execute_result",
          "data": {
            "text/plain": [
              "gender                         2\n",
              "race/ethnicity                 5\n",
              "parental level of education    6\n",
              "lunch                          2\n",
              "test preparation course        2\n",
              "dtype: int64"
            ]
          },
          "metadata": {
            "tags": []
          },
          "execution_count": 6
        }
      ]
    },
    {
      "cell_type": "code",
      "metadata": {
        "colab": {
          "base_uri": "https://localhost:8080/"
        },
        "id": "M5AjVKUhuUsC",
        "outputId": "c06ed8cb-8598-4b6f-d7b3-074ecce8b109"
      },
      "source": [
        "dataset.isnull().any()"
      ],
      "execution_count": 7,
      "outputs": [
        {
          "output_type": "execute_result",
          "data": {
            "text/plain": [
              "gender                         False\n",
              "race/ethnicity                 False\n",
              "parental level of education    False\n",
              "lunch                          False\n",
              "test preparation course        False\n",
              "math score                     False\n",
              "reading score                  False\n",
              "writing score                  False\n",
              "dtype: bool"
            ]
          },
          "metadata": {
            "tags": []
          },
          "execution_count": 7
        }
      ]
    },
    {
      "cell_type": "markdown",
      "metadata": {
        "id": "UmoqLeweu2Id"
      },
      "source": [
        "effect of lunch on performance"
      ]
    },
    {
      "cell_type": "code",
      "metadata": {
        "colab": {
          "base_uri": "https://localhost:8080/",
          "height": 196
        },
        "id": "MKntb7Cjug7T",
        "outputId": "d8bcd34d-073c-40f2-b6be-4e3fa967b96f"
      },
      "source": [
        "dataset[['lunch','gender','math score','writing score',\r\n",
        "      'reading score']].groupby(['lunch','gender']).agg('median')"
      ],
      "execution_count": 8,
      "outputs": [
        {
          "output_type": "execute_result",
          "data": {
            "text/html": [
              "<div>\n",
              "<style scoped>\n",
              "    .dataframe tbody tr th:only-of-type {\n",
              "        vertical-align: middle;\n",
              "    }\n",
              "\n",
              "    .dataframe tbody tr th {\n",
              "        vertical-align: top;\n",
              "    }\n",
              "\n",
              "    .dataframe thead th {\n",
              "        text-align: right;\n",
              "    }\n",
              "</style>\n",
              "<table border=\"1\" class=\"dataframe\">\n",
              "  <thead>\n",
              "    <tr style=\"text-align: right;\">\n",
              "      <th></th>\n",
              "      <th></th>\n",
              "      <th>math score</th>\n",
              "      <th>writing score</th>\n",
              "      <th>reading score</th>\n",
              "    </tr>\n",
              "    <tr>\n",
              "      <th>lunch</th>\n",
              "      <th>gender</th>\n",
              "      <th></th>\n",
              "      <th></th>\n",
              "      <th></th>\n",
              "    </tr>\n",
              "  </thead>\n",
              "  <tbody>\n",
              "    <tr>\n",
              "      <th rowspan=\"2\" valign=\"top\">free/reduced</th>\n",
              "      <th>female</th>\n",
              "      <td>57.0</td>\n",
              "      <td>68.0</td>\n",
              "      <td>67.0</td>\n",
              "    </tr>\n",
              "    <tr>\n",
              "      <th>male</th>\n",
              "      <td>62.0</td>\n",
              "      <td>59.0</td>\n",
              "      <td>61.0</td>\n",
              "    </tr>\n",
              "    <tr>\n",
              "      <th rowspan=\"2\" valign=\"top\">standard</th>\n",
              "      <th>female</th>\n",
              "      <td>67.0</td>\n",
              "      <td>76.0</td>\n",
              "      <td>75.0</td>\n",
              "    </tr>\n",
              "    <tr>\n",
              "      <th>male</th>\n",
              "      <td>72.0</td>\n",
              "      <td>67.0</td>\n",
              "      <td>67.5</td>\n",
              "    </tr>\n",
              "  </tbody>\n",
              "</table>\n",
              "</div>"
            ],
            "text/plain": [
              "                     math score  writing score  reading score\n",
              "lunch        gender                                          \n",
              "free/reduced female        57.0           68.0           67.0\n",
              "             male          62.0           59.0           61.0\n",
              "standard     female        67.0           76.0           75.0\n",
              "             male          72.0           67.0           67.5"
            ]
          },
          "metadata": {
            "tags": []
          },
          "execution_count": 8
        }
      ]
    },
    {
      "cell_type": "markdown",
      "metadata": {
        "id": "hE0IIe80u7Q2"
      },
      "source": [
        "effect of test prep course on performance"
      ]
    },
    {
      "cell_type": "code",
      "metadata": {
        "colab": {
          "base_uri": "https://localhost:8080/",
          "height": 196
        },
        "id": "UVKHd8jMvCC-",
        "outputId": "1b2d9e8f-5246-423b-c929-b85afa7e0672"
      },
      "source": [
        "dataset[['test preparation course',\r\n",
        "      'gender',\r\n",
        "      'math score',\r\n",
        "      'writing score',\r\n",
        "      'reading score']].groupby(['test preparation course','gender']).agg('median')"
      ],
      "execution_count": 9,
      "outputs": [
        {
          "output_type": "execute_result",
          "data": {
            "text/html": [
              "<div>\n",
              "<style scoped>\n",
              "    .dataframe tbody tr th:only-of-type {\n",
              "        vertical-align: middle;\n",
              "    }\n",
              "\n",
              "    .dataframe tbody tr th {\n",
              "        vertical-align: top;\n",
              "    }\n",
              "\n",
              "    .dataframe thead th {\n",
              "        text-align: right;\n",
              "    }\n",
              "</style>\n",
              "<table border=\"1\" class=\"dataframe\">\n",
              "  <thead>\n",
              "    <tr style=\"text-align: right;\">\n",
              "      <th></th>\n",
              "      <th></th>\n",
              "      <th>math score</th>\n",
              "      <th>writing score</th>\n",
              "      <th>reading score</th>\n",
              "    </tr>\n",
              "    <tr>\n",
              "      <th>test preparation course</th>\n",
              "      <th>gender</th>\n",
              "      <th></th>\n",
              "      <th></th>\n",
              "      <th></th>\n",
              "    </tr>\n",
              "  </thead>\n",
              "  <tbody>\n",
              "    <tr>\n",
              "      <th rowspan=\"2\" valign=\"top\">completed</th>\n",
              "      <th>female</th>\n",
              "      <td>67</td>\n",
              "      <td>79</td>\n",
              "      <td>78</td>\n",
              "    </tr>\n",
              "    <tr>\n",
              "      <th>male</th>\n",
              "      <td>73</td>\n",
              "      <td>70</td>\n",
              "      <td>71</td>\n",
              "    </tr>\n",
              "    <tr>\n",
              "      <th rowspan=\"2\" valign=\"top\">none</th>\n",
              "      <th>female</th>\n",
              "      <td>62</td>\n",
              "      <td>70</td>\n",
              "      <td>71</td>\n",
              "    </tr>\n",
              "    <tr>\n",
              "      <th>male</th>\n",
              "      <td>67</td>\n",
              "      <td>60</td>\n",
              "      <td>63</td>\n",
              "    </tr>\n",
              "  </tbody>\n",
              "</table>\n",
              "</div>"
            ],
            "text/plain": [
              "                                math score  writing score  reading score\n",
              "test preparation course gender                                          \n",
              "completed               female          67             79             78\n",
              "                        male            73             70             71\n",
              "none                    female          62             70             71\n",
              "                        male            67             60             63"
            ]
          },
          "metadata": {
            "tags": []
          },
          "execution_count": 9
        }
      ]
    },
    {
      "cell_type": "markdown",
      "metadata": {
        "id": "iA9tlPkcweVu"
      },
      "source": [
        "***Visualising groups***"
      ]
    },
    {
      "cell_type": "code",
      "metadata": {
        "colab": {
          "base_uri": "https://localhost:8080/",
          "height": 445
        },
        "id": "9-1d2xnIvKlh",
        "outputId": "2fcceccf-6460-4eb6-f1f0-674a0647b56d"
      },
      "source": [
        "plt.rcParams['figure.figsize'] = (5, 5)\r\n",
        "#Each time Matplotlib loads, it defines a runtime configuration (rc) containing the default styles for every plot element you create.\r\n",
        "plt.style.use('ggplot')\r\n",
        "\r\n",
        "sns.countplot(dataset['race/ethnicity'], palette = 'pink')\r\n",
        "plt.title('Comparison of various groups', fontweight = 15, fontsize = 20)\r\n",
        "plt.xlabel('Groups')\r\n",
        "plt.ylabel('count')\r\n",
        "plt.show()"
      ],
      "execution_count": 10,
      "outputs": [
        {
          "output_type": "stream",
          "text": [
            "/usr/local/lib/python3.6/dist-packages/seaborn/_decorators.py:43: FutureWarning:\n",
            "\n",
            "Pass the following variable as a keyword arg: x. From version 0.12, the only valid positional argument will be `data`, and passing other arguments without an explicit keyword will result in an error or misinterpretation.\n",
            "\n"
          ],
          "name": "stderr"
        },
        {
          "output_type": "display_data",
          "data": {
            "image/png": "[encoded data removed]",
            "text/plain": [
              "<Figure size 360x360 with 1 Axes>"
            ]
          },
          "metadata": {
            "tags": []
          }
        }
      ]
    },
    {
      "cell_type": "markdown",
      "metadata": {
        "id": "j8brBef6wlaL"
      },
      "source": [
        "***Visualising parental education levels***"
      ]
    },
    {
      "cell_type": "code",
      "metadata": {
        "colab": {
          "base_uri": "https://localhost:8080/",
          "height": 587
        },
        "id": "aYZv8wqxwQfm",
        "outputId": "9ac7ac71-7f9c-4d30-d1ac-00fe65369080"
      },
      "source": [
        "plt.rcParams['figure.figsize'] = (5, 5)\r\n",
        "plt.style.use('fivethirtyeight')\r\n",
        "\r\n",
        "sns.countplot(dataset['parental level of education'], palette = 'Blues')\r\n",
        "plt.title('Comparison of Parental Education', fontweight = 30, fontsize = 20)\r\n",
        "plt.xlabel('Degree')\r\n",
        "plt.ylabel('count')\r\n",
        "plt.xticks(rotation = 90)\r\n",
        "plt.show()"
      ],
      "execution_count": 11,
      "outputs": [
        {
          "output_type": "stream",
          "text": [
            "/usr/local/lib/python3.6/dist-packages/seaborn/_decorators.py:43: FutureWarning:\n",
            "\n",
            "Pass the following variable as a keyword arg: x. From version 0.12, the only valid positional argument will be `data`, and passing other arguments without an explicit keyword will result in an error or misinterpretation.\n",
            "\n"
          ],
          "name": "stderr"
        },
        {
          "output_type": "display_data",
          "data": {
            "image/png": "[encoded data removed]",
            "text/plain": [
              "<Figure size 360x360 with 1 Axes>"
            ]
          },
          "metadata": {
            "tags": []
          }
        }
      ]
    },
    {
      "cell_type": "markdown",
      "metadata": {
        "id": "Xe0qI1G_xUa1"
      },
      "source": [
        "***Vizualizing maths scores***"
      ]
    },
    {
      "cell_type": "code",
      "metadata": {
        "colab": {
          "base_uri": "https://localhost:8080/",
          "height": 701
        },
        "id": "nWQGUA-Cxqio",
        "outputId": "3b27ac56-5003-40cd-82d6-26105a82d05f"
      },
      "source": [
        "plt.rcParams['figure.figsize'] = (15, 9)\r\n",
        "plt.style.use('tableau-colorblind10')\r\n",
        "\r\n",
        "sns.countplot(dataset['math score'], palette = 'BuPu')\r\n",
        "plt.title('Comparison of math scores', fontweight = 30, fontsize = 20)\r\n",
        "plt.xlabel('score')\r\n",
        "plt.ylabel('count')\r\n",
        "plt.xticks(rotation = 90)\r\n",
        "plt.show()"
      ],
      "execution_count": 12,
      "outputs": [
        {
          "output_type": "stream",
          "text": [
            "/usr/local/lib/python3.6/dist-packages/seaborn/_decorators.py:43: FutureWarning:\n",
            "\n",
            "Pass the following variable as a keyword arg: x. From version 0.12, the only valid positional argument will be `data`, and passing other arguments without an explicit keyword will result in an error or misinterpretation.\n",
            "\n"
          ],
          "name": "stderr"
        },
        {
          "output_type": "display_data",
          "data": {
            "image/png": "[encoded data removed]",
            "text/plain": [
              "<Figure size 1080x648 with 1 Axes>"
            ]
          },
          "metadata": {
            "tags": []
          }
        }
      ]
    },
    {
      "cell_type": "markdown",
      "metadata": {
        "id": "iRtfkq2Rygj8"
      },
      "source": [
        "*Computing the total score for each student*"
      ]
    },
    {
      "cell_type": "code",
      "metadata": {
        "colab": {
          "base_uri": "https://localhost:8080/",
          "height": 590
        },
        "id": "nI3zW7bQyIbh",
        "outputId": "8a9ef06b-4cab-426b-a4a4-29965198dead"
      },
      "source": [
        "import warnings\r\n",
        "warnings.filterwarnings('ignore')\r\n",
        "#Use warnings.filterwarnings() to ignore deprecation warnings\r\n",
        "#Leave category unset to ignore all warnings.\r\n",
        "\r\n",
        "dataset['total_score'] = dataset['math score'] + dataset['reading score'] + dataset['writing score']\r\n",
        "\r\n",
        "sns.distplot(dataset['total_score'], color = 'green')\r\n",
        "#distplot function combines the matplotlib hist function (with automatic\r\n",
        "#calculation of a good default bin size) with the seaborn kdeplot\r\n",
        "#and rugplot functions. It can also fit scipy.stats\r\n",
        "#distributions and plot the estimated PDF over the data.\r\n",
        "\r\n",
        "plt.title('comparison of total score of all the students', fontweight = 30, fontsize = 20)\r\n",
        "plt.xlabel('total score scored by the students')\r\n",
        "plt.ylabel('count')\r\n",
        "plt.show()"
      ],
      "execution_count": 13,
      "outputs": [
        {
          "output_type": "display_data",
          "data": {
            "image/png": "[encoded data removed]",
            "text/plain": [
              "<Figure size 1080x648 with 1 Axes>"
            ]
          },
          "metadata": {
            "tags": []
          }
        }
      ]
    },
    {
      "cell_type": "markdown",
      "metadata": {
        "id": "hROIKN991Ylj"
      },
      "source": [
        "*Computing percentage of each student*"
      ]
    },
    {
      "cell_type": "code",
      "metadata": {
        "colab": {
          "base_uri": "https://localhost:8080/",
          "height": 383
        },
        "id": "iBVfEGpz0xdw",
        "outputId": "96a76f07-158f-49f9-b466-e5589f6671c6"
      },
      "source": [
        "# importing math library to use ceil\r\n",
        "from math import * \r\n",
        "import warnings\r\n",
        "warnings.filterwarnings('ignore')\r\n",
        "\r\n",
        "dataset['percentage'] = dataset['total_score']/3\r\n",
        "\r\n",
        "for i in range(0, 1000):\r\n",
        "    dataset['percentage'][i] = ceil(dataset['percentage'][i])\r\n",
        "\r\n",
        "plt.rcParams['figure.figsize'] = (10, 5)\r\n",
        "sns.distplot(dataset['percentage'], color = 'orange')\r\n",
        "\r\n",
        "plt.title('Comparison of percentage scored by all the students', fontweight = 30, fontsize = 20)\r\n",
        "plt.xlabel('Percentage scored')\r\n",
        "plt.ylabel('Count')\r\n",
        "plt.show()"
      ],
      "execution_count": 14,
      "outputs": [
        {
          "output_type": "display_data",
          "data": {
            "image/png": "[encoded data removed]",
            "text/plain": [
              "<Figure size 720x360 with 1 Axes>"
            ]
          },
          "metadata": {
            "tags": []
          }
        }
      ]
    },
    {
      "cell_type": "code",
      "metadata": {
        "colab": {
          "base_uri": "https://localhost:8080/"
        },
        "id": "gAGz-59N1mCF",
        "outputId": "cff7215c-ceb9-4b4b-8a34-c020dc75ec86"
      },
      "source": [
        "data=dataset\r\n",
        "def grade(percentage):\r\n",
        "  if(percentage >= 90):\r\n",
        "    return 'O'\r\n",
        "  elif(percentage >= 80):\r\n",
        "    return 'A'\r\n",
        "  elif(percentage >= 70):\r\n",
        "    return 'B'\r\n",
        "  elif(percentage >= 60):\r\n",
        "    return 'C'\r\n",
        "  elif(percentage >= 40):\r\n",
        "    return 'D'\r\n",
        "  else :\r\n",
        "    return 'E'\r\n",
        "\r\n",
        "data['grades'] = dataset.apply(lambda x: grade(x['percentage']), axis = 1 )\r\n",
        "\r\n",
        "data['grades'].value_counts()"
      ],
      "execution_count": 16,
      "outputs": [
        {
          "output_type": "execute_result",
          "data": {
            "text/plain": [
              "B    260\n",
              "C    252\n",
              "D    248\n",
              "A    156\n",
              "O     58\n",
              "E     26\n",
              "Name: grades, dtype: int64"
            ]
          },
          "metadata": {
            "tags": []
          },
          "execution_count": 16
        }
      ]
    },
    {
      "cell_type": "markdown",
      "metadata": {
        "id": "JWl12Wqy3Oh-"
      },
      "source": [
        "***LABEL ENCODING***"
      ]
    },
    {
      "cell_type": "markdown",
      "metadata": {
        "id": "qTFdb06Q3kRX"
      },
      "source": [
        "Label Encoding refers to converting the labels into numeric form so as to convert it into the machine-readable form. Machine learning algorithms can then decide in a better way on how those labels must be operated. It is an important pre-processing step for the structured dataset in supervised learning."
      ]
    },
    {
      "cell_type": "code",
      "metadata": {
        "colab": {
          "base_uri": "https://localhost:8080/"
        },
        "id": "XpQlcZGN3R2G",
        "outputId": "39afa90c-a4bd-428c-ddc0-52ac38f7babb"
      },
      "source": [
        "from sklearn.preprocessing import LabelEncoder\r\n",
        "\r\n",
        "# creating an encoder\r\n",
        "le = LabelEncoder()\r\n",
        "\r\n",
        "\r\n",
        "# label encoding for test preparation course\r\n",
        "data['test preparation course'] = le.fit_transform(dataset['test preparation course'])\r\n",
        "\r\n",
        "# label encoding for lunch\r\n",
        "data['lunch'] = le.fit_transform(dataset['lunch'])\r\n",
        "\r\n",
        "# label encoding for race/ethnicity\r\n",
        "# we have to map values to each of the categories\r\n",
        "data['race/ethnicity'] = dataset['race/ethnicity'].replace('group A', 1)\r\n",
        "data['race/ethnicity'] = dataset['race/ethnicity'].replace('group B', 2)\r\n",
        "data['race/ethnicity'] = dataset['race/ethnicity'].replace('group C', 3)\r\n",
        "data['race/ethnicity'] = dataset['race/ethnicity'].replace('group D', 4)\r\n",
        "data['race/ethnicity'] = dataset['race/ethnicity'].replace('group E', 5)\r\n",
        "\r\n",
        "# label encoding for parental level of education\r\n",
        "data['parental level of education'] = le.fit_transform(dataset['parental level of education'])\r\n",
        "\r\n",
        "#label encoding for gender\r\n",
        "data['gender'] = le.fit_transform(dataset['gender'])\r\n",
        "\r\n",
        "# label encoding for pass_math\r\n",
        "data['pass_math'] = le.fit_transform(dataset['math score'])\r\n",
        "\r\n",
        "# label encoding for pass_reading\r\n",
        "data['pass_reading'] = le.fit_transform(dataset['reading score'])\r\n",
        "\r\n",
        "# label encoding for pass_writing\r\n",
        "data['pass_writing'] = le.fit_transform(dataset['writing score'])\r\n",
        "\r\n",
        "data['grades'] = dataset['grades'].replace('O', 1)\r\n",
        "data['grades'] = dataset['grades'].replace('A', 2)\r\n",
        "data['grades'] = dataset['grades'].replace('B', 3)\r\n",
        "data['grades'] = dataset['grades'].replace('C', 4)\r\n",
        "data['grades'] = dataset['grades'].replace('D', 5)\r\n",
        "data['grades'] = dataset['grades'].replace('E', 6)\r\n",
        "# label encoding for status\r\n",
        "#data['status'] = le.fit_transform(dataset['status'])\r\n",
        "print(data['grades'])"
      ],
      "execution_count": 17,
      "outputs": [
        {
          "output_type": "stream",
          "text": [
            "0      3\n",
            "1      2\n",
            "2      1\n",
            "3      5\n",
            "4      3\n",
            "      ..\n",
            "995    1\n",
            "996    5\n",
            "997    4\n",
            "998    3\n",
            "999    2\n",
            "Name: grades, Length: 1000, dtype: int64\n"
          ],
          "name": "stdout"
        }
      ]
    },
    {
      "cell_type": "code",
      "metadata": {
        "colab": {
          "base_uri": "https://localhost:8080/",
          "height": 458
        },
        "id": "Ln4Eo5nzgFvY",
        "outputId": "808725e3-469e-454e-e4cb-6c03607370a7"
      },
      "source": [
        "data"
      ],
      "execution_count": 19,
      "outputs": [
        {
          "output_type": "execute_result",
          "data": {
            "text/html": [
              "<div>\n",
              "<style scoped>\n",
              "    .dataframe tbody tr th:only-of-type {\n",
              "        vertical-align: middle;\n",
              "    }\n",
              "\n",
              "    .dataframe tbody tr th {\n",
              "        vertical-align: top;\n",
              "    }\n",
              "\n",
              "    .dataframe thead th {\n",
              "        text-align: right;\n",
              "    }\n",
              "</style>\n",
              "<table border=\"1\" class=\"dataframe\">\n",
              "  <thead>\n",
              "    <tr style=\"text-align: right;\">\n",
              "      <th></th>\n",
              "      <th>gender</th>\n",
              "      <th>race/ethnicity</th>\n",
              "      <th>parental level of education</th>\n",
              "      <th>lunch</th>\n",
              "      <th>test preparation course</th>\n",
              "      <th>math score</th>\n",
              "      <th>reading score</th>\n",
              "      <th>writing score</th>\n",
              "      <th>total_score</th>\n",
              "      <th>percentage</th>\n",
              "      <th>grades</th>\n",
              "      <th>pass_math</th>\n",
              "      <th>pass_reading</th>\n",
              "      <th>pass_writing</th>\n",
              "    </tr>\n",
              "  </thead>\n",
              "  <tbody>\n",
              "    <tr>\n",
              "      <th>0</th>\n",
              "      <td>0</td>\n",
              "      <td>2</td>\n",
              "      <td>1</td>\n",
              "      <td>1</td>\n",
              "      <td>1</td>\n",
              "      <td>72</td>\n",
              "      <td>72</td>\n",
              "      <td>74</td>\n",
              "      <td>218</td>\n",
              "      <td>73.0</td>\n",
              "      <td>3</td>\n",
              "      <td>52</td>\n",
              "      <td>44</td>\n",
              "      <td>50</td>\n",
              "    </tr>\n",
              "    <tr>\n",
              "      <th>1</th>\n",
              "      <td>0</td>\n",
              "      <td>3</td>\n",
              "      <td>4</td>\n",
              "      <td>1</td>\n",
              "      <td>0</td>\n",
              "      <td>69</td>\n",
              "      <td>90</td>\n",
              "      <td>88</td>\n",
              "      <td>247</td>\n",
              "      <td>83.0</td>\n",
              "      <td>2</td>\n",
              "      <td>49</td>\n",
              "      <td>62</td>\n",
              "      <td>64</td>\n",
              "    </tr>\n",
              "    <tr>\n",
              "      <th>2</th>\n",
              "      <td>0</td>\n",
              "      <td>2</td>\n",
              "      <td>3</td>\n",
              "      <td>1</td>\n",
              "      <td>1</td>\n",
              "      <td>90</td>\n",
              "      <td>95</td>\n",
              "      <td>93</td>\n",
              "      <td>278</td>\n",
              "      <td>93.0</td>\n",
              "      <td>1</td>\n",
              "      <td>70</td>\n",
              "      <td>67</td>\n",
              "      <td>69</td>\n",
              "    </tr>\n",
              "    <tr>\n",
              "      <th>3</th>\n",
              "      <td>1</td>\n",
              "      <td>1</td>\n",
              "      <td>0</td>\n",
              "      <td>0</td>\n",
              "      <td>1</td>\n",
              "      <td>47</td>\n",
              "      <td>57</td>\n",
              "      <td>44</td>\n",
              "      <td>148</td>\n",
              "      <td>50.0</td>\n",
              "      <td>5</td>\n",
              "      <td>27</td>\n",
              "      <td>29</td>\n",
              "      <td>20</td>\n",
              "    </tr>\n",
              "    <tr>\n",
              "      <th>4</th>\n",
              "      <td>1</td>\n",
              "      <td>3</td>\n",
              "      <td>4</td>\n",
              "      <td>1</td>\n",
              "      <td>1</td>\n",
              "      <td>76</td>\n",
              "      <td>78</td>\n",
              "      <td>75</td>\n",
              "      <td>229</td>\n",
              "      <td>77.0</td>\n",
              "      <td>3</td>\n",
              "      <td>56</td>\n",
              "      <td>50</td>\n",
              "      <td>51</td>\n",
              "    </tr>\n",
              "    <tr>\n",
              "      <th>...</th>\n",
              "      <td>...</td>\n",
              "      <td>...</td>\n",
              "      <td>...</td>\n",
              "      <td>...</td>\n",
              "      <td>...</td>\n",
              "      <td>...</td>\n",
              "      <td>...</td>\n",
              "      <td>...</td>\n",
              "      <td>...</td>\n",
              "      <td>...</td>\n",
              "      <td>...</td>\n",
              "      <td>...</td>\n",
              "      <td>...</td>\n",
              "      <td>...</td>\n",
              "    </tr>\n",
              "    <tr>\n",
              "      <th>995</th>\n",
              "      <td>0</td>\n",
              "      <td>5</td>\n",
              "      <td>3</td>\n",
              "      <td>1</td>\n",
              "      <td>0</td>\n",
              "      <td>88</td>\n",
              "      <td>99</td>\n",
              "      <td>95</td>\n",
              "      <td>282</td>\n",
              "      <td>94.0</td>\n",
              "      <td>1</td>\n",
              "      <td>68</td>\n",
              "      <td>70</td>\n",
              "      <td>71</td>\n",
              "    </tr>\n",
              "    <tr>\n",
              "      <th>996</th>\n",
              "      <td>1</td>\n",
              "      <td>3</td>\n",
              "      <td>2</td>\n",
              "      <td>0</td>\n",
              "      <td>1</td>\n",
              "      <td>62</td>\n",
              "      <td>55</td>\n",
              "      <td>55</td>\n",
              "      <td>172</td>\n",
              "      <td>58.0</td>\n",
              "      <td>5</td>\n",
              "      <td>42</td>\n",
              "      <td>27</td>\n",
              "      <td>31</td>\n",
              "    </tr>\n",
              "    <tr>\n",
              "      <th>997</th>\n",
              "      <td>0</td>\n",
              "      <td>3</td>\n",
              "      <td>2</td>\n",
              "      <td>0</td>\n",
              "      <td>0</td>\n",
              "      <td>59</td>\n",
              "      <td>71</td>\n",
              "      <td>65</td>\n",
              "      <td>195</td>\n",
              "      <td>65.0</td>\n",
              "      <td>4</td>\n",
              "      <td>39</td>\n",
              "      <td>43</td>\n",
              "      <td>41</td>\n",
              "    </tr>\n",
              "    <tr>\n",
              "      <th>998</th>\n",
              "      <td>0</td>\n",
              "      <td>4</td>\n",
              "      <td>4</td>\n",
              "      <td>1</td>\n",
              "      <td>0</td>\n",
              "      <td>68</td>\n",
              "      <td>78</td>\n",
              "      <td>77</td>\n",
              "      <td>223</td>\n",
              "      <td>75.0</td>\n",
              "      <td>3</td>\n",
              "      <td>48</td>\n",
              "      <td>50</td>\n",
              "      <td>53</td>\n",
              "    </tr>\n",
              "    <tr>\n",
              "      <th>999</th>\n",
              "      <td>0</td>\n",
              "      <td>4</td>\n",
              "      <td>4</td>\n",
              "      <td>0</td>\n",
              "      <td>1</td>\n",
              "      <td>77</td>\n",
              "      <td>86</td>\n",
              "      <td>86</td>\n",
              "      <td>249</td>\n",
              "      <td>83.0</td>\n",
              "      <td>2</td>\n",
              "      <td>57</td>\n",
              "      <td>58</td>\n",
              "      <td>62</td>\n",
              "    </tr>\n",
              "  </tbody>\n",
              "</table>\n",
              "<p>1000 rows × 14 columns</p>\n",
              "</div>"
            ],
            "text/plain": [
              "     gender  race/ethnicity  ...  pass_reading  pass_writing\n",
              "0         0               2  ...            44            50\n",
              "1         0               3  ...            62            64\n",
              "2         0               2  ...            67            69\n",
              "3         1               1  ...            29            20\n",
              "4         1               3  ...            50            51\n",
              "..      ...             ...  ...           ...           ...\n",
              "995       0               5  ...            70            71\n",
              "996       1               3  ...            27            31\n",
              "997       0               3  ...            43            41\n",
              "998       0               4  ...            50            53\n",
              "999       0               4  ...            58            62\n",
              "\n",
              "[1000 rows x 14 columns]"
            ]
          },
          "metadata": {
            "tags": []
          },
          "execution_count": 19
        }
      ]
    },
    {
      "cell_type": "code",
      "metadata": {
        "colab": {
          "base_uri": "https://localhost:8080/"
        },
        "id": "t_dFvb2m7ByS",
        "outputId": "9a8574ed-3d32-4508-c491-207dac30171a"
      },
      "source": [
        "x = data.iloc[:,:13]\r\n",
        "y = data.iloc[:,13]\r\n",
        "\r\n",
        "print(x.shape)\r\n",
        "print(y.shape)"
      ],
      "execution_count": 20,
      "outputs": [
        {
          "output_type": "stream",
          "text": [
            "(1000, 13)\n",
            "(1000,)\n"
          ],
          "name": "stdout"
        }
      ]
    },
    {
      "cell_type": "markdown",
      "metadata": {
        "id": "rxSxMWnd7b9J"
      },
      "source": [
        "*Splitting testset and training set*"
      ]
    },
    {
      "cell_type": "code",
      "metadata": {
        "id": "uncoM_Tu7gR3",
        "colab": {
          "base_uri": "https://localhost:8080/"
        },
        "outputId": "4a5d7f34-5c7b-4c9f-dfc7-f98ead77a062"
      },
      "source": [
        "from sklearn.model_selection import train_test_split\r\n",
        "\r\n",
        "x_train, x_test, y_train, y_test = train_test_split(x, y, test_size = 0.25, random_state = 45)\r\n",
        "\r\n",
        "print(x_train.shape)\r\n",
        "print(y_train.shape)\r\n",
        "print(x_test.shape)\r\n",
        "print(y_test.shape)\r\n",
        "print(x_train.dtypes)\r\n",
        "print(x_test.dtypes)"
      ],
      "execution_count": 36,
      "outputs": [
        {
          "output_type": "stream",
          "text": [
            "(750, 13)\n",
            "(750,)\n",
            "(250, 13)\n",
            "(250,)\n",
            "gender                           int64\n",
            "race/ethnicity                   int64\n",
            "parental level of education      int64\n",
            "lunch                            int64\n",
            "test preparation course          int64\n",
            "math score                       int64\n",
            "reading score                    int64\n",
            "writing score                    int64\n",
            "total_score                      int64\n",
            "percentage                     float64\n",
            "grades                           int64\n",
            "pass_math                        int64\n",
            "pass_reading                     int64\n",
            "dtype: object\n",
            "gender                           int64\n",
            "race/ethnicity                   int64\n",
            "parental level of education      int64\n",
            "lunch                            int64\n",
            "test preparation course          int64\n",
            "math score                       int64\n",
            "reading score                    int64\n",
            "writing score                    int64\n",
            "total_score                      int64\n",
            "percentage                     float64\n",
            "grades                           int64\n",
            "pass_math                        int64\n",
            "pass_reading                     int64\n",
            "dtype: object\n"
          ],
          "name": "stdout"
        }
      ]
    },
    {
      "cell_type": "code",
      "metadata": {
        "id": "jq10tBsOJ9nc"
      },
      "source": [
        "# importing the MinMaxScaler\r\n",
        "from sklearn.preprocessing import MinMaxScaler\r\n",
        "\r\n",
        "# creating a scaler\r\n",
        "mm = MinMaxScaler()\r\n",
        "\r\n",
        "# feeding the independent variable into the scaler\r\n",
        "x_train = pd.DataFrame(mm.fit_transform(x_train))\r\n",
        "x_test = mm.fit_transform(x_test)"
      ],
      "execution_count": 37,
      "outputs": []
    },
    {
      "cell_type": "markdown",
      "metadata": {
        "id": "Hp8tLQvIM9mI"
      },
      "source": [
        "Principal component analysis (PCA) is a technique for reducing the dimensionality of such datasets, increasing interpretability but at the same time minimizing information loss. It does so by creating new uncorrelated variables that successively maximize variance."
      ]
    },
    {
      "cell_type": "code",
      "metadata": {
        "colab": {
          "base_uri": "https://localhost:8080/"
        },
        "id": "MqVQnm5lMqwm",
        "outputId": "90e44d8b-dfd5-41b0-d38b-c8907770428d"
      },
      "source": [
        "from sklearn.decomposition import PCA\r\n",
        "\r\n",
        "# creating a principal component analysis model\r\n",
        "pca = PCA(n_components = None)\r\n",
        "\r\n",
        "# feeding the independent variables to the PCA model\r\n",
        "x_train = pca.fit_transform(x_train)\r\n",
        "x_test = pca.fit_transform(x_test)\r\n",
        "\r\n",
        "# visualising the principal components that will explain the highest share of variance\r\n",
        "explained_variance = pca.explained_variance_ratio_\r\n",
        "print(explained_variance)\r\n",
        "\r\n",
        "# creating a principal component analysis model\r\n",
        "pca = PCA(n_components = 2)\r\n",
        "\r\n",
        "# feeding the independent variables to the PCA model\r\n",
        "x_train = pca.fit_transform(x_train)\r\n",
        "x_test = pca.fit_transform(x_test)"
      ],
      "execution_count": 38,
      "outputs": [
        {
          "output_type": "stream",
          "text": [
            "[2.84611474e-01 2.24867026e-01 1.95181710e-01 1.19277674e-01\n",
            " 1.08232095e-01 5.72033946e-02 5.77060950e-03 3.53571328e-03\n",
            " 1.29594078e-03 1.50518242e-05 7.89014100e-06 1.42147391e-06\n",
            " 6.47057960e-33]\n"
          ],
          "name": "stdout"
        }
      ]
    },
    {
      "cell_type": "markdown",
      "metadata": {
        "id": "Qh6bmPouNA2z"
      },
      "source": [
        "# ***MODELLING***"
      ]
    },
    {
      "cell_type": "code",
      "metadata": {
        "id": "AC1WDHLuOHfJ"
      },
      "source": [
        "#Finding errors\r\n",
        "from sklearn import metrics\r\n",
        "mae=[0,0,0,0,0,0]\r\n",
        "mse=[0,0,0,0,0,0]\r\n",
        "rmse=[0,0,0,0,0,0]\r\n",
        "def print_error(x_test, y_test, model_name):\r\n",
        "  prediction = model_name.predict(x_test)\r\n",
        "  a=metrics.mean_absolute_error(y_test, prediction)\r\n",
        "  b=metrics.mean_squared_error(y_test, prediction)\r\n",
        "  c=np.sqrt(b)\r\n",
        "  print('Mean Absolute Error:', a)\r\n",
        "  print('Mean Squared Error:', b)\r\n",
        "  print('Root Mean Squared Error:', c)\r\n",
        "  return ([a,b,c])"
      ],
      "execution_count": 67,
      "outputs": []
    },
    {
      "cell_type": "code",
      "metadata": {
        "colab": {
          "base_uri": "https://localhost:8080/"
        },
        "id": "VhCt_E1qhMbP",
        "outputId": "0e41c24a-c727-48bb-9e1d-f055e413d7a5"
      },
      "source": [
        "print(x_train.shape)\r\n",
        "print(y_train.shape)\r\n",
        "print(x_test.shape)\r\n",
        "print(y_test.shape)\r\n",
        "#y"
      ],
      "execution_count": 68,
      "outputs": [
        {
          "output_type": "stream",
          "text": [
            "(750, 2)\n",
            "(750,)\n",
            "(250, 2)\n",
            "(250,)\n"
          ],
          "name": "stdout"
        }
      ]
    },
    {
      "cell_type": "markdown",
      "metadata": {
        "id": "FxWsoMIPvDZ7"
      },
      "source": [
        "***LOGISTIC REGRESSION***"
      ]
    },
    {
      "cell_type": "code",
      "metadata": {
        "colab": {
          "base_uri": "https://localhost:8080/"
        },
        "id": "XZ-Sh__WNPc7",
        "outputId": "fe7d6448-eaed-460e-d630-1bfa60a5a9cb"
      },
      "source": [
        "from sklearn.linear_model import  LogisticRegression\r\n",
        "\r\n",
        "# creating a model\r\n",
        "model = LogisticRegression()\r\n",
        "\r\n",
        "# feeding the training data to the model\r\n",
        "model.fit(x_train, y_train)\r\n",
        "\r\n",
        "# predicting the test set results\r\n",
        "y_pred = model.predict(x_test)\r\n",
        "\r\n",
        "# calculating the classification accuracies\r\n",
        "print(\"Training Accuracy :\", model.score(x_train, y_train))\r\n",
        "print(\"Testing Accuracy :\", model.score(x_test, y_test))\r\n",
        "mae[0],mse[0],rmse[0]=print_error(x_test,y_test, model)"
      ],
      "execution_count": 69,
      "outputs": [
        {
          "output_type": "stream",
          "text": [
            "Training Accuracy : 0.07733333333333334\n",
            "Testing Accuracy : 0.056\n",
            "Mean Absolute Error: 7.86\n",
            "Mean Squared Error: 97.692\n",
            "Root Mean Squared Error: 9.88392634533463\n"
          ],
          "name": "stdout"
        }
      ]
    },
    {
      "cell_type": "markdown",
      "metadata": {
        "id": "l-wtLI3nvIQ9"
      },
      "source": [
        "***SVR***"
      ]
    },
    {
      "cell_type": "code",
      "metadata": {
        "colab": {
          "base_uri": "https://localhost:8080/"
        },
        "id": "AI33hHu1rrje",
        "outputId": "3b80afc5-7bac-48be-b66f-c66151ccb7c1"
      },
      "source": [
        "from sklearn.svm import SVR\r\n",
        "\r\n",
        "model = SVR()\r\n",
        "\r\n",
        "# feeding the training data to the model\r\n",
        "model.fit(x_train, y_train)\r\n",
        "\r\n",
        "# predicting the x-test results\r\n",
        "y_pred = model.predict(x_test)\r\n",
        "\r\n",
        "# calculating the accuracies\r\n",
        "print(\"Training Accuracy :\", model.score(x_train, y_train))\r\n",
        "print(\"Testing Accuracy :\", model.score(x_test, y_test))\r\n",
        "mae[1],mse[1],rmse[1]=print_error(x_test,y_test, model)"
      ],
      "execution_count": 70,
      "outputs": [
        {
          "output_type": "stream",
          "text": [
            "Training Accuracy : 0.7921488015301057\n",
            "Testing Accuracy : 0.739389070649457\n",
            "Mean Absolute Error: 5.8450763896563505\n",
            "Mean Squared Error: 53.29673222515483\n",
            "Root Mean Squared Error: 7.300461096749631\n"
          ],
          "name": "stdout"
        }
      ]
    },
    {
      "cell_type": "markdown",
      "metadata": {
        "id": "rEqGDmkrvLZ4"
      },
      "source": [
        "***DECISION TREE***"
      ]
    },
    {
      "cell_type": "code",
      "metadata": {
        "colab": {
          "base_uri": "https://localhost:8080/"
        },
        "id": "Z_Ig-9NyrQch",
        "outputId": "608986c3-22c0-483e-fc86-a4e256e53d37"
      },
      "source": [
        "from sklearn.tree import DecisionTreeRegressor\r\n",
        "\r\n",
        "# creating a model\r\n",
        "model = DecisionTreeRegressor()\r\n",
        "\r\n",
        "# feeding the training data to the model\r\n",
        "model.fit(x_train, y_train)\r\n",
        "\r\n",
        "# predicting the x-test results\r\n",
        "y_pred = model.predict(x_test)\r\n",
        "\r\n",
        "# calculating the accuracies\r\n",
        "print(\"Training Accuracy :\", model.score(x_train, y_train))\r\n",
        "print(\"Testing Accuracy :\", model.score(x_test, y_test))\r\n",
        "mae[2],mse[2],rmse[2]=print_error(x_test,y_test, model)"
      ],
      "execution_count": 71,
      "outputs": [
        {
          "output_type": "stream",
          "text": [
            "Training Accuracy : 1.0\n",
            "Testing Accuracy : 0.422728512783256\n",
            "Mean Absolute Error: 8.688\n",
            "Mean Squared Error: 118.056\n",
            "Root Mean Squared Error: 10.865357794384868\n"
          ],
          "name": "stdout"
        }
      ]
    },
    {
      "cell_type": "markdown",
      "metadata": {
        "id": "zlmBxNnZvPoP"
      },
      "source": [
        "***RANDOM FOREST***"
      ]
    },
    {
      "cell_type": "code",
      "metadata": {
        "colab": {
          "base_uri": "https://localhost:8080/"
        },
        "id": "XLKG_n_jrDux",
        "outputId": "c6b462d9-52c0-4b1b-b52a-e8c099cd6bed"
      },
      "source": [
        "from sklearn.ensemble import RandomForestClassifier\r\n",
        "\r\n",
        "# creating a model\r\n",
        "model = RandomForestClassifier()\r\n",
        "\r\n",
        "# feeding the training data to the model\r\n",
        "model.fit(x_train, y_train)\r\n",
        "\r\n",
        "# predicting the x-test results\r\n",
        "y_pred = model.predict(x_test)\r\n",
        "\r\n",
        "# calculating the accuracies\r\n",
        "print(\"Training Accuracy :\", model.score(x_train, y_train))\r\n",
        "print(\"Testing Accuracy :\", model.score(x_test, y_test))\r\n",
        "mae[3],mse[3],rmse[3]=print_error(x_test,y_test, model)"
      ],
      "execution_count": 72,
      "outputs": [
        {
          "output_type": "stream",
          "text": [
            "Training Accuracy : 1.0\n",
            "Testing Accuracy : 0.032\n",
            "Mean Absolute Error: 9.352\n",
            "Mean Squared Error: 131.512\n",
            "Root Mean Squared Error: 11.467868154107807\n"
          ],
          "name": "stdout"
        }
      ]
    },
    {
      "cell_type": "markdown",
      "metadata": {
        "id": "n9ZQ4CWDvTck"
      },
      "source": [
        "***LINEAR REGRESSION***"
      ]
    },
    {
      "cell_type": "code",
      "metadata": {
        "colab": {
          "base_uri": "https://localhost:8080/"
        },
        "id": "SuB8HpvCuAQs",
        "outputId": "5cf06aad-bbaf-4ed6-ffa7-c7bee62fb608"
      },
      "source": [
        "from sklearn import linear_model\r\n",
        "\r\n",
        "model = linear_model.LinearRegression()\r\n",
        "\r\n",
        "# feeding the training data to the model\r\n",
        "model.fit(x_train, y_train)\r\n",
        "\r\n",
        "# predicting the x-test results\r\n",
        "y_pred = model.predict(x_test)\r\n",
        "\r\n",
        "# calculating the accuracies\r\n",
        "print(\"Training Accuracy :\", model.score(x_train, y_train))\r\n",
        "print(\"Testing Accuracy :\", model.score(x_test, y_test))\r\n",
        "mae[4],mse[4],rmse[4]=print_error(x_test,y_test, model)"
      ],
      "execution_count": 73,
      "outputs": [
        {
          "output_type": "stream",
          "text": [
            "Training Accuracy : 0.799961412239326\n",
            "Testing Accuracy : 0.7588423812722014\n",
            "Mean Absolute Error: 5.765552891932387\n",
            "Mean Squared Error: 49.31839605277358\n",
            "Root Mean Squared Error: 7.022705750120361\n"
          ],
          "name": "stdout"
        }
      ]
    },
    {
      "cell_type": "markdown",
      "metadata": {
        "id": "d-MBP0bnveCB"
      },
      "source": [
        "***ARTIFICIAL NEURAL NETWORK***"
      ]
    },
    {
      "cell_type": "code",
      "metadata": {
        "colab": {
          "base_uri": "https://localhost:8080/"
        },
        "id": "Pr-SgowRsn02",
        "outputId": "f4df49f8-8e57-4f2a-a78a-951e9efc7e30"
      },
      "source": [
        "# Artificial Neural Network\r\n",
        "import keras\r\n",
        "from keras.layers import Dense\r\n",
        "ann = keras.models.Sequential([\r\n",
        "                                Dense(6, activation=\"relu\",\r\n",
        "                                input_shape=x_train.shape[1:]),\r\n",
        "                                Dense(6,activation=\"relu\"), \r\n",
        "                                Dense(1)\r\n",
        "                                ])\r\n",
        "optimizer=keras.optimizers.Adam()\r\n",
        "loss=keras.losses.mean_squared_error\r\n",
        "ann.compile(optimizer=optimizer,loss=loss,metrics=[\"mean_squared_error\"])\r\n",
        "history=ann.fit(x_train,y_train,epochs=100)\r\n",
        "ann.summary()\r\n",
        "print(\"Training Accuracy :\", model.score(x_train, y_train))\r\n",
        "print(\"Testing Accuracy :\", model.score(x_test, y_test))\r\n",
        "mae[5],mse[5],rmse[5]=print_error(x_test,y_test,ann)"
      ],
      "execution_count": 74,
      "outputs": [
        {
          "output_type": "stream",
          "text": [
            "Epoch 1/100\n",
            "24/24 [==============================] - 0s 1ms/step - loss: 2205.5977 - mean_squared_error: 2205.5977\n",
            "Epoch 2/100\n",
            "24/24 [==============================] - 0s 1ms/step - loss: 2216.7527 - mean_squared_error: 2216.7527\n",
            "Epoch 3/100\n",
            "24/24 [==============================] - 0s 1ms/step - loss: 2142.8021 - mean_squared_error: 2142.8021\n",
            "Epoch 4/100\n",
            "24/24 [==============================] - 0s 1ms/step - loss: 2180.3193 - mean_squared_error: 2180.3193\n",
            "Epoch 5/100\n",
            "24/24 [==============================] - 0s 1ms/step - loss: 2171.5866 - mean_squared_error: 2171.5866\n",
            "Epoch 6/100\n",
            "24/24 [==============================] - 0s 1ms/step - loss: 2075.1366 - mean_squared_error: 2075.1366\n",
            "Epoch 7/100\n",
            "24/24 [==============================] - 0s 2ms/step - loss: 1997.5120 - mean_squared_error: 1997.5120\n",
            "Epoch 8/100\n",
            "24/24 [==============================] - 0s 1ms/step - loss: 1923.2565 - mean_squared_error: 1923.2565\n",
            "Epoch 9/100\n",
            "24/24 [==============================] - 0s 1ms/step - loss: 1892.1970 - mean_squared_error: 1892.1970\n",
            "Epoch 10/100\n",
            "24/24 [==============================] - 0s 1ms/step - loss: 1820.5523 - mean_squared_error: 1820.5523\n",
            "Epoch 11/100\n",
            "24/24 [==============================] - 0s 1ms/step - loss: 1767.2751 - mean_squared_error: 1767.2751\n",
            "Epoch 12/100\n",
            "24/24 [==============================] - 0s 1ms/step - loss: 1664.8667 - mean_squared_error: 1664.8667\n",
            "Epoch 13/100\n",
            "24/24 [==============================] - 0s 1ms/step - loss: 1517.2720 - mean_squared_error: 1517.2720\n",
            "Epoch 14/100\n",
            "24/24 [==============================] - 0s 1ms/step - loss: 1359.0605 - mean_squared_error: 1359.0605\n",
            "Epoch 15/100\n",
            "24/24 [==============================] - 0s 1ms/step - loss: 1232.1351 - mean_squared_error: 1232.1351\n",
            "Epoch 16/100\n",
            "24/24 [==============================] - 0s 1ms/step - loss: 1103.4229 - mean_squared_error: 1103.4229\n",
            "Epoch 17/100\n",
            "24/24 [==============================] - 0s 1ms/step - loss: 962.1604 - mean_squared_error: 962.1604\n",
            "Epoch 18/100\n",
            "24/24 [==============================] - 0s 1ms/step - loss: 816.1368 - mean_squared_error: 816.1368\n",
            "Epoch 19/100\n",
            "24/24 [==============================] - 0s 1ms/step - loss: 663.5193 - mean_squared_error: 663.5193\n",
            "Epoch 20/100\n",
            "24/24 [==============================] - 0s 1ms/step - loss: 537.1629 - mean_squared_error: 537.1629\n",
            "Epoch 21/100\n",
            "24/24 [==============================] - 0s 1ms/step - loss: 447.6041 - mean_squared_error: 447.6041\n",
            "Epoch 22/100\n",
            "24/24 [==============================] - 0s 1ms/step - loss: 336.9291 - mean_squared_error: 336.9291\n",
            "Epoch 23/100\n",
            "24/24 [==============================] - 0s 1ms/step - loss: 267.2994 - mean_squared_error: 267.2994\n",
            "Epoch 24/100\n",
            "24/24 [==============================] - 0s 1ms/step - loss: 210.1469 - mean_squared_error: 210.1469\n",
            "Epoch 25/100\n",
            "24/24 [==============================] - 0s 1ms/step - loss: 153.9608 - mean_squared_error: 153.9608\n",
            "Epoch 26/100\n",
            "24/24 [==============================] - 0s 1ms/step - loss: 116.6108 - mean_squared_error: 116.6108\n",
            "Epoch 27/100\n",
            "24/24 [==============================] - 0s 1ms/step - loss: 93.3028 - mean_squared_error: 93.3028\n",
            "Epoch 28/100\n",
            "24/24 [==============================] - 0s 1ms/step - loss: 74.3062 - mean_squared_error: 74.3062\n",
            "Epoch 29/100\n",
            "24/24 [==============================] - 0s 1ms/step - loss: 70.5522 - mean_squared_error: 70.5522\n",
            "Epoch 30/100\n",
            "24/24 [==============================] - 0s 1ms/step - loss: 62.2411 - mean_squared_error: 62.2411\n",
            "Epoch 31/100\n",
            "24/24 [==============================] - 0s 1ms/step - loss: 60.7500 - mean_squared_error: 60.7500\n",
            "Epoch 32/100\n",
            "24/24 [==============================] - 0s 1ms/step - loss: 60.0113 - mean_squared_error: 60.0113\n",
            "Epoch 33/100\n",
            "24/24 [==============================] - 0s 1ms/step - loss: 61.6007 - mean_squared_error: 61.6007\n",
            "Epoch 34/100\n",
            "24/24 [==============================] - 0s 1ms/step - loss: 59.8880 - mean_squared_error: 59.8880\n",
            "Epoch 35/100\n",
            "24/24 [==============================] - 0s 1ms/step - loss: 58.2839 - mean_squared_error: 58.2839\n",
            "Epoch 36/100\n",
            "24/24 [==============================] - 0s 1ms/step - loss: 55.6167 - mean_squared_error: 55.6167\n",
            "Epoch 37/100\n",
            "24/24 [==============================] - 0s 2ms/step - loss: 57.9862 - mean_squared_error: 57.9862\n",
            "Epoch 38/100\n",
            "24/24 [==============================] - 0s 1ms/step - loss: 53.3085 - mean_squared_error: 53.3085\n",
            "Epoch 39/100\n",
            "24/24 [==============================] - 0s 1ms/step - loss: 53.5519 - mean_squared_error: 53.5519\n",
            "Epoch 40/100\n",
            "24/24 [==============================] - 0s 1ms/step - loss: 60.8590 - mean_squared_error: 60.8590\n",
            "Epoch 41/100\n",
            "24/24 [==============================] - 0s 1ms/step - loss: 56.4463 - mean_squared_error: 56.4463\n",
            "Epoch 42/100\n",
            "24/24 [==============================] - 0s 1ms/step - loss: 57.4733 - mean_squared_error: 57.4733\n",
            "Epoch 43/100\n",
            "24/24 [==============================] - 0s 1ms/step - loss: 56.4961 - mean_squared_error: 56.4961\n",
            "Epoch 44/100\n",
            "24/24 [==============================] - 0s 1ms/step - loss: 52.1538 - mean_squared_error: 52.1538\n",
            "Epoch 45/100\n",
            "24/24 [==============================] - 0s 1ms/step - loss: 57.6136 - mean_squared_error: 57.6136\n",
            "Epoch 46/100\n",
            "24/24 [==============================] - 0s 1ms/step - loss: 54.3889 - mean_squared_error: 54.3889\n",
            "Epoch 47/100\n",
            "24/24 [==============================] - 0s 1ms/step - loss: 57.6649 - mean_squared_error: 57.6649\n",
            "Epoch 48/100\n",
            "24/24 [==============================] - 0s 1ms/step - loss: 52.3205 - mean_squared_error: 52.3205\n",
            "Epoch 49/100\n",
            "24/24 [==============================] - 0s 1ms/step - loss: 49.9005 - mean_squared_error: 49.9005\n",
            "Epoch 50/100\n",
            "24/24 [==============================] - 0s 1ms/step - loss: 52.3013 - mean_squared_error: 52.3013\n",
            "Epoch 51/100\n",
            "24/24 [==============================] - 0s 1ms/step - loss: 55.0697 - mean_squared_error: 55.0697\n",
            "Epoch 52/100\n",
            "24/24 [==============================] - 0s 1ms/step - loss: 50.3154 - mean_squared_error: 50.3154\n",
            "Epoch 53/100\n",
            "24/24 [==============================] - 0s 1ms/step - loss: 52.6751 - mean_squared_error: 52.6751\n",
            "Epoch 54/100\n",
            "24/24 [==============================] - 0s 1ms/step - loss: 52.1628 - mean_squared_error: 52.1628\n",
            "Epoch 55/100\n",
            "24/24 [==============================] - 0s 1ms/step - loss: 50.0589 - mean_squared_error: 50.0589\n",
            "Epoch 56/100\n",
            "24/24 [==============================] - 0s 1ms/step - loss: 53.3984 - mean_squared_error: 53.3984\n",
            "Epoch 57/100\n",
            "24/24 [==============================] - 0s 1ms/step - loss: 53.1273 - mean_squared_error: 53.1273\n",
            "Epoch 58/100\n",
            "24/24 [==============================] - 0s 1ms/step - loss: 49.2791 - mean_squared_error: 49.2791\n",
            "Epoch 59/100\n",
            "24/24 [==============================] - 0s 1ms/step - loss: 51.1349 - mean_squared_error: 51.1349\n",
            "Epoch 60/100\n",
            "24/24 [==============================] - 0s 1ms/step - loss: 50.6722 - mean_squared_error: 50.6722\n",
            "Epoch 61/100\n",
            "24/24 [==============================] - 0s 1ms/step - loss: 51.0509 - mean_squared_error: 51.0509\n",
            "Epoch 62/100\n",
            "24/24 [==============================] - 0s 1ms/step - loss: 48.0583 - mean_squared_error: 48.0583\n",
            "Epoch 63/100\n",
            "24/24 [==============================] - 0s 2ms/step - loss: 51.3980 - mean_squared_error: 51.3980\n",
            "Epoch 64/100\n",
            "24/24 [==============================] - 0s 1ms/step - loss: 46.5037 - mean_squared_error: 46.5037\n",
            "Epoch 65/100\n",
            "24/24 [==============================] - 0s 2ms/step - loss: 48.7478 - mean_squared_error: 48.7478\n",
            "Epoch 66/100\n",
            "24/24 [==============================] - 0s 2ms/step - loss: 50.3907 - mean_squared_error: 50.3907\n",
            "Epoch 67/100\n",
            "24/24 [==============================] - 0s 1ms/step - loss: 48.0749 - mean_squared_error: 48.0749\n",
            "Epoch 68/100\n",
            "24/24 [==============================] - 0s 1ms/step - loss: 52.0933 - mean_squared_error: 52.0933\n",
            "Epoch 69/100\n",
            "24/24 [==============================] - 0s 1ms/step - loss: 47.7213 - mean_squared_error: 47.7213\n",
            "Epoch 70/100\n",
            "24/24 [==============================] - 0s 1ms/step - loss: 48.6135 - mean_squared_error: 48.6135\n",
            "Epoch 71/100\n",
            "24/24 [==============================] - 0s 1ms/step - loss: 54.2434 - mean_squared_error: 54.2434\n",
            "Epoch 72/100\n",
            "24/24 [==============================] - 0s 1ms/step - loss: 49.1973 - mean_squared_error: 49.1973\n",
            "Epoch 73/100\n",
            "24/24 [==============================] - 0s 1ms/step - loss: 51.8409 - mean_squared_error: 51.8409\n",
            "Epoch 74/100\n",
            "24/24 [==============================] - 0s 1ms/step - loss: 50.2955 - mean_squared_error: 50.2955\n",
            "Epoch 75/100\n",
            "24/24 [==============================] - 0s 1ms/step - loss: 50.2204 - mean_squared_error: 50.2204\n",
            "Epoch 76/100\n",
            "24/24 [==============================] - 0s 1ms/step - loss: 49.7426 - mean_squared_error: 49.7426\n",
            "Epoch 77/100\n",
            "24/24 [==============================] - 0s 1ms/step - loss: 48.4259 - mean_squared_error: 48.4259\n",
            "Epoch 78/100\n",
            "24/24 [==============================] - 0s 1ms/step - loss: 49.3670 - mean_squared_error: 49.3670\n",
            "Epoch 79/100\n",
            "24/24 [==============================] - 0s 1ms/step - loss: 50.3681 - mean_squared_error: 50.3681\n",
            "Epoch 80/100\n",
            "24/24 [==============================] - 0s 2ms/step - loss: 46.7387 - mean_squared_error: 46.7387\n",
            "Epoch 81/100\n",
            "24/24 [==============================] - 0s 1ms/step - loss: 50.6193 - mean_squared_error: 50.6193\n",
            "Epoch 82/100\n",
            "24/24 [==============================] - 0s 1ms/step - loss: 49.2120 - mean_squared_error: 49.2120\n",
            "Epoch 83/100\n",
            "24/24 [==============================] - 0s 1ms/step - loss: 48.2293 - mean_squared_error: 48.2293\n",
            "Epoch 84/100\n",
            "24/24 [==============================] - 0s 1ms/step - loss: 49.1979 - mean_squared_error: 49.1979\n",
            "Epoch 85/100\n",
            "24/24 [==============================] - 0s 1ms/step - loss: 49.8935 - mean_squared_error: 49.8935\n",
            "Epoch 86/100\n",
            "24/24 [==============================] - 0s 1ms/step - loss: 47.3207 - mean_squared_error: 47.3207\n",
            "Epoch 87/100\n",
            "24/24 [==============================] - 0s 1ms/step - loss: 49.0712 - mean_squared_error: 49.0712\n",
            "Epoch 88/100\n",
            "24/24 [==============================] - 0s 1ms/step - loss: 47.6431 - mean_squared_error: 47.6431\n",
            "Epoch 89/100\n",
            "24/24 [==============================] - 0s 1ms/step - loss: 47.0170 - mean_squared_error: 47.0170\n",
            "Epoch 90/100\n",
            "24/24 [==============================] - 0s 1ms/step - loss: 48.8697 - mean_squared_error: 48.8697\n",
            "Epoch 91/100\n",
            "24/24 [==============================] - 0s 1ms/step - loss: 48.8151 - mean_squared_error: 48.8151\n",
            "Epoch 92/100\n",
            "24/24 [==============================] - 0s 1ms/step - loss: 49.7033 - mean_squared_error: 49.7033\n",
            "Epoch 93/100\n",
            "24/24 [==============================] - 0s 2ms/step - loss: 49.7055 - mean_squared_error: 49.7055\n",
            "Epoch 94/100\n",
            "24/24 [==============================] - 0s 1ms/step - loss: 44.9748 - mean_squared_error: 44.9748\n",
            "Epoch 95/100\n",
            "24/24 [==============================] - 0s 1ms/step - loss: 50.2685 - mean_squared_error: 50.2685\n",
            "Epoch 96/100\n",
            "24/24 [==============================] - 0s 2ms/step - loss: 48.1060 - mean_squared_error: 48.1060\n",
            "Epoch 97/100\n",
            "24/24 [==============================] - 0s 1ms/step - loss: 47.2708 - mean_squared_error: 47.2708\n",
            "Epoch 98/100\n",
            "24/24 [==============================] - 0s 1ms/step - loss: 46.0426 - mean_squared_error: 46.0426\n",
            "Epoch 99/100\n",
            "24/24 [==============================] - 0s 1ms/step - loss: 46.6035 - mean_squared_error: 46.6035\n",
            "Epoch 100/100\n",
            "24/24 [==============================] - 0s 1ms/step - loss: 46.2106 - mean_squared_error: 46.2106\n",
            "Model: \"sequential_4\"\n",
            "_________________________________________________________________\n",
            "Layer (type)                 Output Shape              Param #   \n",
            "=================================================================\n",
            "dense_12 (Dense)             (None, 6)                 18        \n",
            "_________________________________________________________________\n",
            "dense_13 (Dense)             (None, 6)                 42        \n",
            "_________________________________________________________________\n",
            "dense_14 (Dense)             (None, 1)                 7         \n",
            "=================================================================\n",
            "Total params: 67\n",
            "Trainable params: 67\n",
            "Non-trainable params: 0\n",
            "_________________________________________________________________\n",
            "Training Accuracy : 0.799961412239326\n",
            "Testing Accuracy : 0.7588423812722014\n",
            "Mean Absolute Error: 5.947257545471191\n",
            "Mean Squared Error: 52.72745109116148\n",
            "Root Mean Squared Error: 7.261367026336121\n"
          ],
          "name": "stdout"
        }
      ]
    },
    {
      "cell_type": "code",
      "metadata": {
        "colab": {
          "base_uri": "https://localhost:8080/",
          "height": 517
        },
        "id": "SULXfjIts23P",
        "outputId": "90dbd3d0-b762-49c2-8031-d2854fd3139b"
      },
      "source": [
        "plt.plot([\"LogisticRegression\",\"SVR\",\"DecisionTree\",\"RandomForest\",\"LinearRegression\",\"ANN\"],mae)\r\n",
        "plt.show()"
      ],
      "execution_count": 76,
      "outputs": [
        {
          "output_type": "display_data",
          "data": {
            "image/png": "[encoded data removed]",
            "text/plain": [
              "<Figure size 576x576 with 1 Axes>"
            ]
          },
          "metadata": {
            "tags": []
          }
        }
      ]
    },
    {
      "cell_type": "code",
      "metadata": {
        "colab": {
          "base_uri": "https://localhost:8080/",
          "height": 515
        },
        "id": "f_3BBM8NtVcU",
        "outputId": "bbdb4472-c940-4309-bb7f-37fbde8041ae"
      },
      "source": [
        "plt.plot([\"LogisticRegression\",\"SVR\",\"DecisionTree\",\"RandomForest\",\"LinearRegression\",\"ANN\"],mse)\r\n",
        "plt.show()"
      ],
      "execution_count": 77,
      "outputs": [
        {
          "output_type": "display_data",
          "data": {
            "image/png": "[encoded data removed]",
            "text/plain": [
              "<Figure size 576x576 with 1 Axes>"
            ]
          },
          "metadata": {
            "tags": []
          }
        }
      ]
    },
    {
      "cell_type": "code",
      "metadata": {
        "colab": {
          "base_uri": "https://localhost:8080/",
          "height": 515
        },
        "id": "LaOWwl17tepB",
        "outputId": "40194487-d7bf-4e8c-d745-a04361a395d6"
      },
      "source": [
        "plt.plot([\"LogisticRegression\",\"SVR\",\"DecisionTree\",\"RandomForest\",\"LinearRegression\",\"ANN\"],rmse)\r\n",
        "plt.show()"
      ],
      "execution_count": 78,
      "outputs": [
        {
          "output_type": "display_data",
          "data": {
            "image/png": "[encoded data removed]",
            "text/plain": [
              "<Figure size 576x576 with 1 Axes>"
            ]
          },
          "metadata": {
            "tags": []
          }
        }
      ]
    }
  ]
}